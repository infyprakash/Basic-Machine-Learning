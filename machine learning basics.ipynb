{
 "cells": [
  {
   "cell_type": "markdown",
   "metadata": {},
   "source": [
    "# MACHINE LEARNING TASK\n",
    "\n",
    "\n",
    "Two of the most common supervised machine learning tasks are classification\n",
    "and regression. \n",
    "\n",
    "In classification tasks the program must learn to predict discrete values for the response variables from one or more explanatory variables. That is, the program must predict the most probable category, class, or label for new observations. Applications of classification include predicting whether a stock's\n",
    "price will rise or fall, or deciding if a news article belongs to the politics or leisure section. \n",
    "\n",
    "In regression problems the program must predict the value of a continuous response variable. Examples of regression problems include predicting the sales for a new product, or the salary for a job based on its description. Similar to classification, regression problems require supervised learning.\n",
    "\n",
    "\n",
    "A common unsupervised learning task is to discover groups of related observations, called clusters, within the training data. This task, called clustering or cluster analysis, assigns observations to groups such that observations within groups are more similar to each other based on some similarity measure than they are to observations in other groups. \n",
    "\n",
    "Clustering is often used to explore a dataset. For example, given a collection of movie reviews, a clustering algorithm might discover sets of positive and negative reviews. The system will not be able to label the clusters as \"positive\" or \"negative\"; without supervision, it will only have knowledge that the grouped observations\n",
    "are similar to each other by some measure. \n",
    "\n",
    "A common application of clustering is discovering segments of customers within a market for a product. By understanding what attributes are common to particular groups of customers, marketers can decide what aspects of their campaigns need to be emphasized. Clustering is also used by Internet radio services; for example, given a collection of songs, a clustering algorithm might be able to group the songs according to their genres. Using different similarity measures, the same clustering algorithm might group the songs by their keys, or by the instruments they contain."
   ]
  },
  {
   "cell_type": "markdown",
   "metadata": {},
   "source": [
    "# LINEAR REGRESSION\n",
    "\n",
    "## SIMPLE LINEAR REGRESSION\n",
    "\n",
    "The training data is used to estimate the parameters of a model in supervised learning problems. Past observations of explanatory variables and their corresponding response variables comprise the training data. The model can be used to predict the value of the response variable for values of the explanatory variable that have not been previously observed.\n",
    "The goal in regression problems is to predict the value of a continuous response variable. \n",
    "\n",
    "we will examine several example linear regression models. We will discuss the training data, model, learning algorithm, and evaluation metrics for each approach. \n",
    "\n",
    "To start, let's consider simple linear regression. Simple linear regression can be used to model a linear relationship between one response variable and one explanatory variable.\n"
   ]
  },
  {
   "cell_type": "markdown",
   "metadata": {},
   "source": [
    "### PIZZA EXAMPLE\n",
    "\n",
    "Suppose you wish to know the price of a pizza. You might simply look at a menu. This, however, is a machine learning book, so we will use simple linear regression instead to predict the price of a pizza based on an attribute of the pizza that we can observe. Let's model the relationship between the size of a pizza and its price. First, we will write a program with scikit-learn that can predict the price of a pizza given its size. Then, we will discuss how simple linear regression works and how it can be generalized to work with other types of problems. Let's assume that you have recorded the diameters and prices of pizzas that you have previously eaten in your pizza journal. These observations comprise our training data:\n",
    "\n",
    "<img src='pizza.png'>"
   ]
  },
  {
   "cell_type": "code",
   "execution_count": 1,
   "metadata": {},
   "outputs": [],
   "source": [
    "# Let us visualize our Training DATA, using matplotlib\n",
    "\n",
    "import numpy as np\n",
    "import pandas as pd\n",
    "import matplotlib.pyplot as plt"
   ]
  },
  {
   "cell_type": "code",
   "execution_count": 2,
   "metadata": {},
   "outputs": [
    {
     "data": {
      "image/png": "[encoded data removed]",
      "text/plain": [
       "<Figure size 432x288 with 1 Axes>"
      ]
     },
     "metadata": {
      "needs_background": "light"
     },
     "output_type": "display_data"
    }
   ],
   "source": [
    "x = np.array([6,8,10,14,18])\n",
    "y = np.array([7,9,13,17.5,18])\n",
    "\n",
    "plt.title('pizza price plotted against its diameter')\n",
    "plt.xlabel('Diameter in INCHES')\n",
    "plt.ylabel('Price in DOLLAR')\n",
    "\n",
    "plt.plot(x,y,'g.')\n",
    "\n",
    "plt.show()"
   ]
  },
  {
   "cell_type": "markdown",
   "metadata": {},
   "source": [
    "\n",
    "We can see from the graph of the training data that there is a positive relationship between the diameter of a pizza and its price, which should be corroborated by our own pizza-eating experience. As the diameter of a pizza increases, its price generally increases too."
   ]
  },
  {
   "cell_type": "code",
   "execution_count": 3,
   "metadata": {},
   "outputs": [],
   "source": [
    " # the following program, discuss how linear regression works:"
   ]
  },
  {
   "cell_type": "code",
   "execution_count": 7,
   "metadata": {},
   "outputs": [
    {
     "data": {
      "text/plain": [
       "LinearRegression(copy_X=True, fit_intercept=True, n_jobs=None, normalize=False)"
      ]
     },
     "execution_count": 7,
     "metadata": {},
     "output_type": "execute_result"
    }
   ],
   "source": [
    "from sklearn.linear_model import LinearRegression\n",
    "\n",
    "# TRAINING DATA\n",
    "\n",
    "X = [[6],[8],[10],[14],[18]]\n",
    "y = [[7],[9],[13],[17.5],[18]]\n",
    "\n",
    "# model training\n",
    "\n",
    "model = LinearRegression()\n",
    "model.fit(X,y)"
   ]
  },
  {
   "cell_type": "code",
   "execution_count": 12,
   "metadata": {},
   "outputs": [
    {
     "name": "stdout",
     "output_type": "stream",
     "text": [
      "A 12\" pizza would cost: $13.68\n"
     ]
    }
   ],
   "source": [
    "# once model is trained it can be used for making prediction\n",
    "\n",
    "print('A 12\" pizza would cost: $%.2f'%(model.predict([[12]])[0]))"
   ]
  },
  {
   "cell_type": "markdown",
   "metadata": {},
   "source": [
    "Simple linear regression assumes that a linear relationship exists between the response variable and explanatory variable; it models this relationship with a linear surface called a hyperplane. A hyperplane is a subspace that has one dimension less than the ambient space that contains it. In simple linear regression, there is one dimension for the response variable and another dimension for the explanatory variable, making a total of two dimensions. The regression hyperplane therefore, has one dimension; a hyperplane with one dimension is a line."
   ]
  },
  {
   "cell_type": "code",
   "execution_count": 14,
   "metadata": {},
   "outputs": [
    {
     "data": {
      "image/png": "[encoded data removed]",
      "text/plain": [
       "<Figure size 432x288 with 1 Axes>"
      ]
     },
     "metadata": {
      "needs_background": "light"
     },
     "output_type": "display_data"
    }
   ],
   "source": [
    "# plotting regression hyperplane\n",
    "\n",
    "x = np.array([6,8,10,14,18])\n",
    "y = np.array([7,9,13,17.5,18])\n",
    "\n",
    "plt.plot(x, y, 'o')\n",
    "\n",
    "# m = slope b= intercept based on y= mx+b\n",
    "\n",
    "m, b = np.polyfit(x, y, 1)\n",
    "\n",
    "plt.plot(x, m*x + b)\n",
    "\n",
    "plt.title('pizza price plotted against its diameter')\n",
    "plt.xlabel('Diameter in INCHES')\n",
    "plt.ylabel('Price in DOLLAR')\n",
    "\n",
    "plt.show()"
   ]
  },
  {
   "cell_type": "markdown",
   "metadata": {},
   "source": [
    "The sklearn.linear_model.LinearRegression class is an estimator. Estimators predict a value based on the observed data. \n",
    "\n",
    "In scikit-learn, all estimators implement the fit() and predict() methods. \n",
    "\n",
    "The former method is used to learn the parameters of a model, and the latter method is used to predict the value of a response variable for an explanatory variable using the learned parameters. "
   ]
  },
  {
   "cell_type": "markdown",
   "metadata": {},
   "source": [
    "\n",
    "The fit method of LinearRegression learns the parameters of the following model for simple linear regression:\n",
    "\n",
    "<img src='fit.png'>"
   ]
  },
  {
   "cell_type": "markdown",
   "metadata": {},
   "source": [
    "y is the predicted value of the response variable; in this example, it is the predicted price of the pizza. x is the explanatory variable. \n",
    "\n",
    "The intercept term α and coefficient β are parameters of the model that are learned by the learning algorithm. \n",
    "\n"
   ]
  },
  {
   "cell_type": "markdown",
   "metadata": {},
   "source": [
    "Using training data to learn the values of the parameters for simple linear regression that produce the best fitting model is called ordinary least squares or linear least squares."
   ]
  },
  {
   "cell_type": "markdown",
   "metadata": {},
   "source": [
    "### Solving ordinary least squares for simple linear regression\n",
    "\n",
    "we will work through solving ordinary least squares for simple linear regression. Recall that simple linear regression is given by the following equation:\n",
    "\n",
    "<img src='fit.png'>"
   ]
  },
  {
   "cell_type": "markdown",
   "metadata": {},
   "source": [
    "Also, recall that our goal is to solve the values of β and α that minimize the cost function. We will solve β first. To do so, we will calculate the variance of x and covariance of x and y."
   ]
  },
  {
   "cell_type": "markdown",
   "metadata": {},
   "source": [
    "Variance is a measure of how far a set of values is spread out. If all of the numbers in the set are equal, the variance of the set is zero. A small variance indicates that the numbers are near the mean of the set, while a set containing numbers that are far from the mean and each other will have a large variance. Variance can be calculated using the following equation:\n",
    "<img src='variance.png'>"
   ]
  },
  {
   "cell_type": "markdown",
   "metadata": {},
   "source": [
    "In the preceding equation, x is the mean of x, xi is the value of x for the ith training instance, and n is the number of training instances. Let's calculate the variance of the pizza diameters in our training set:"
   ]
  },
  {
   "cell_type": "code",
   "execution_count": 15,
   "metadata": {},
   "outputs": [],
   "source": [
    "X = np.array([6,8,10,14,18])\n"
   ]
  },
  {
   "cell_type": "code",
   "execution_count": 18,
   "metadata": {},
   "outputs": [
    {
     "name": "stdout",
     "output_type": "stream",
     "text": [
      "23.2\n"
     ]
    }
   ],
   "source": [
    "variance = np.var(X,ddof=1)\n",
    "print(variance)"
   ]
  },
  {
   "cell_type": "markdown",
   "metadata": {},
   "source": [
    "Covariance is a measure of how much two variables change together. If the value of the variables increase together, their covariance is positive. If one variable tends to increase while the other decreases, their covariance is negative. If there is no linear relationship between the two variables, their covariance will be equal to zero; the variables are linearly uncorrelated but not necessarily independent. Covariance can be calculated using the following formula:\n",
    "<img src='covariance.png'>"
   ]
  },
  {
   "cell_type": "code",
   "execution_count": 22,
   "metadata": {},
   "outputs": [],
   "source": [
    "y = np.array([7,9,13,17.5,18])"
   ]
  },
  {
   "cell_type": "code",
   "execution_count": 25,
   "metadata": {},
   "outputs": [
    {
     "name": "stdout",
     "output_type": "stream",
     "text": [
      "22.65\n"
     ]
    }
   ],
   "source": [
    "covariance = np.cov(X,y)[0][1]\n",
    "print(covariance)"
   ]
  },
  {
   "cell_type": "markdown",
   "metadata": {},
   "source": [
    "<img src='beta.png'>"
   ]
  },
  {
   "cell_type": "code",
   "execution_count": 26,
   "metadata": {},
   "outputs": [
    {
     "name": "stdout",
     "output_type": "stream",
     "text": [
      "0.9762931034482758\n"
     ]
    }
   ],
   "source": [
    "beta = (covariance/variance)\n",
    "print(beta)"
   ]
  },
  {
   "cell_type": "markdown",
   "metadata": {},
   "source": [
    "Having solved β , we can solve α using the following formula:\n",
    "<img src='alpha.png'>"
   ]
  },
  {
   "cell_type": "code",
   "execution_count": 27,
   "metadata": {},
   "outputs": [],
   "source": [
    "ybar = np.mean(y)\n",
    "xbar = np.mean(X)"
   ]
  },
  {
   "cell_type": "code",
   "execution_count": 28,
   "metadata": {},
   "outputs": [],
   "source": [
    "alpha = ybar - (beta*xbar)"
   ]
  },
  {
   "cell_type": "code",
   "execution_count": 29,
   "metadata": {},
   "outputs": [
    {
     "name": "stdout",
     "output_type": "stream",
     "text": [
      "1.9655172413793114\n"
     ]
    }
   ],
   "source": [
    "print(alpha)"
   ]
  },
  {
   "cell_type": "markdown",
   "metadata": {},
   "source": [
    "so, our model solved will be:\n",
    "     y = alpha + beta * x\n",
    "     \n",
    "Let us predict the price of 11 inch pizza"
   ]
  },
  {
   "cell_type": "code",
   "execution_count": 33,
   "metadata": {},
   "outputs": [],
   "source": [
    " y = alpha + (beta*11)"
   ]
  },
  {
   "cell_type": "code",
   "execution_count": 35,
   "metadata": {},
   "outputs": [
    {
     "name": "stdout",
     "output_type": "stream",
     "text": [
      "The price of 11\" pizza is: $12.70\n"
     ]
    }
   ],
   "source": [
    "print('The price of 11\" pizza is: $%.2f'%(y))"
   ]
  },
  {
   "cell_type": "markdown",
   "metadata": {},
   "source": [
    "## Evaluating the model\n",
    "\n",
    "We have used a learning algorithm to estimate a model's parameters from the training data. How can we assess whether our model is a good representation of the real relationship? Let's assume that you have found another page in your pizza journal. We will use the entries on this page as a test set to measure the performance of our model:\n",
    "\n",
    "<img src='test.png'>"
   ]
  },
  {
   "cell_type": "markdown",
   "metadata": {},
   "source": [
    "Several measures can be used to assess our model's predictive capabilities. We will evaluate our pizza-price predictor using r-squared. \n",
    "\n",
    "R-squared measures how well the observed values of the response variables are predicted by the model.\n",
    "\n",
    "\n",
    "More concretely, r-squared is the proportion of the variance in the response variable that is explained by the model. \n",
    "\n",
    "An r-squared score of one indicates that the response variable can be predicted without any error using the model. \n",
    "\n",
    "An r-squared score of one half indicates that half of the variance in the response variable can be predicted using the model. \n",
    "\n",
    "There are several methods to calculate r-squared. In the case of simple linear regression, r-squared is equal to the square of the Pearson product moment correlation coefficient, or Pearson's r.\n"
   ]
  },
  {
   "cell_type": "markdown",
   "metadata": {},
   "source": [
    "<img src='total.png'>"
   ]
  },
  {
   "cell_type": "markdown",
   "metadata": {},
   "source": [
    "<img src='res.png'>"
   ]
  },
  {
   "cell_type": "markdown",
   "metadata": {},
   "source": [
    "<img src='sq.png'>"
   ]
  },
  {
   "cell_type": "code",
   "execution_count": 37,
   "metadata": {},
   "outputs": [
    {
     "name": "stdout",
     "output_type": "stream",
     "text": [
      "R-squared: 0.6620\n"
     ]
    }
   ],
   "source": [
    "# TRAINING DATA\n",
    "\n",
    "X = [[6],[8],[10],[14],[18]]\n",
    "y = [[7],[9],[13],[17.5],[18]]\n",
    "\n",
    "# model training\n",
    "\n",
    "model = LinearRegression()\n",
    "model.fit(X,y)\n",
    "\n",
    "# Test Data\n",
    "\n",
    "X_test = [[8],  [9],   [11], [16], [12]]\n",
    "y_test = [[11], [8.5], [15], [18], [11]]\n",
    "\n",
    "\n",
    "print ('R-squared: %.4f' % model.score(X_test, y_test))"
   ]
  },
  {
   "cell_type": "markdown",
   "metadata": {},
   "source": [
    "## MULTIPLE LINEAR REGRESSION\n",
    "\n",
    "\n",
    "we can use a generalization of simple linear regression that can use multiple explanatory variables called multiple linear regression. Formally, multiple linear regression is the following model:\n",
    "<img src='formula.png'>\n"
   ]
  },
  {
   "cell_type": "markdown",
   "metadata": {},
   "source": [
    "Let's update our pizza training data to include the number of toppings with the following values:\n",
    "<img src='multi_data.png'>"
   ]
  },
  {
   "cell_type": "code",
   "execution_count": 38,
   "metadata": {},
   "outputs": [
    {
     "name": "stdout",
     "output_type": "stream",
     "text": [
      "Predicted: [10.0625], Target: [11]\n",
      "Predicted: [10.28125], Target: [8.5]\n",
      "Predicted: [13.09375], Target: [15]\n",
      "Predicted: [18.14583333], Target: [18]\n",
      "Predicted: [13.3125], Target: [11]\n"
     ]
    }
   ],
   "source": [
    "X = [[6, 2], [8, 1], [10, 0], [14, 2], [18, 0]]\n",
    "y = [[7],    [9],    [13],    [17.5],  [18]]\n",
    "model = LinearRegression()\n",
    "\n",
    "model.fit(X, y)\n",
    "\n",
    "X_test = [[8, 2], [9, 0], [11, 2], [16, 2], [12, 0]]\n",
    "\n",
    "y_test = [[11],   [8.5],  [15],    [18],    [11]]\n",
    "\n",
    "predictions = model.predict(X_test)\n",
    "\n",
    "for i, prediction in enumerate(predictions):\n",
    "    print ('Predicted: %s, Target: %s' % (prediction, y_test[i]))"
   ]
  },
  {
   "cell_type": "code",
   "execution_count": 39,
   "metadata": {},
   "outputs": [
    {
     "name": "stdout",
     "output_type": "stream",
     "text": [
      "R-squared: 0.77\n"
     ]
    }
   ],
   "source": [
    "print ('R-squared: %.2f' % model.score(X_test, y_test))"
   ]
  },
  {
   "cell_type": "code",
   "execution_count": null,
   "metadata": {},
   "outputs": [],
   "source": []
  }
 ],
 "metadata": {
  "kernelspec": {
   "display_name": "Python 3",
   "language": "python",
   "name": "python3"
  },
  "language_info": {
   "codemirror_mode": {
    "name": "ipython",
    "version": 3
   },
   "file_extension": ".py",
   "mimetype": "text/x-python",
   "name": "python",
   "nbconvert_exporter": "python",
   "pygments_lexer": "ipython3",
   "version": "3.7.4"
  }
 },
 "nbformat": 4,
 "nbformat_minor": 2
}
